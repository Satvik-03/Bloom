{
  "nbformat": 4,
  "nbformat_minor": 0,
  "metadata": {
    "colab": {
      "provenance": [],
      "gpuType": "T4"
    },
    "kernelspec": {
      "name": "python3",
      "display_name": "Python 3"
    },
    "language_info": {
      "name": "python"
    },
    "accelerator": "GPU",
    "widgets": {
      "application/vnd.jupyter.widget-state+json": {
        "4378ff076a6445a8bb23df45ab3f9876": {
          "model_module": "@jupyter-widgets/controls",
          "model_name": "HBoxModel",
          "model_module_version": "1.5.0",
          "state": {
            "_dom_classes": [],
            "_model_module": "@jupyter-widgets/controls",
            "_model_module_version": "1.5.0",
            "_model_name": "HBoxModel",
            "_view_count": null,
            "_view_module": "@jupyter-widgets/controls",
            "_view_module_version": "1.5.0",
            "_view_name": "HBoxView",
            "box_style": "",
            "children": [
              "IPY_MODEL_10decb3aec2a4bbfbfddd5a5137e1631",
              "IPY_MODEL_b2e2ab54b08f4d099b65f8a3b693ff84",
              "IPY_MODEL_9d5fe2a34c3f47559a6fe15cdc96855c"
            ],
            "layout": "IPY_MODEL_ea3cfb4308f9427e9f80b28e70320363"
          }
        },
        "10decb3aec2a4bbfbfddd5a5137e1631": {
          "model_module": "@jupyter-widgets/controls",
          "model_name": "HTMLModel",
          "model_module_version": "1.5.0",
          "state": {
            "_dom_classes": [],
            "_model_module": "@jupyter-widgets/controls",
            "_model_module_version": "1.5.0",
            "_model_name": "HTMLModel",
            "_view_count": null,
            "_view_module": "@jupyter-widgets/controls",
            "_view_module_version": "1.5.0",
            "_view_name": "HTMLView",
            "description": "",
            "description_tooltip": null,
            "layout": "IPY_MODEL_28cbcad6885b42a095255645537cb4f9",
            "placeholder": "​",
            "style": "IPY_MODEL_d54c39b44ffb482fa7a077b89131e977",
            "value": "tokenizer_config.json: 100%"
          }
        },
        "b2e2ab54b08f4d099b65f8a3b693ff84": {
          "model_module": "@jupyter-widgets/controls",
          "model_name": "FloatProgressModel",
          "model_module_version": "1.5.0",
          "state": {
            "_dom_classes": [],
            "_model_module": "@jupyter-widgets/controls",
            "_model_module_version": "1.5.0",
            "_model_name": "FloatProgressModel",
            "_view_count": null,
            "_view_module": "@jupyter-widgets/controls",
            "_view_module_version": "1.5.0",
            "_view_name": "ProgressView",
            "bar_style": "success",
            "description": "",
            "description_tooltip": null,
            "layout": "IPY_MODEL_960f90ed58fc4c46b65ba2c4914741f0",
            "max": 222,
            "min": 0,
            "orientation": "horizontal",
            "style": "IPY_MODEL_2411a3592f074e72967bfb6ed59c05eb",
            "value": 222
          }
        },
        "9d5fe2a34c3f47559a6fe15cdc96855c": {
          "model_module": "@jupyter-widgets/controls",
          "model_name": "HTMLModel",
          "model_module_version": "1.5.0",
          "state": {
            "_dom_classes": [],
            "_model_module": "@jupyter-widgets/controls",
            "_model_module_version": "1.5.0",
            "_model_name": "HTMLModel",
            "_view_count": null,
            "_view_module": "@jupyter-widgets/controls",
            "_view_module_version": "1.5.0",
            "_view_name": "HTMLView",
            "description": "",
            "description_tooltip": null,
            "layout": "IPY_MODEL_c59902b917de4d908961c3594d9b98ab",
            "placeholder": "​",
            "style": "IPY_MODEL_155f3f9cef234500a2b91c8f28c2534d",
            "value": " 222/222 [00:00&lt;00:00, 5.26kB/s]"
          }
        },
        "ea3cfb4308f9427e9f80b28e70320363": {
          "model_module": "@jupyter-widgets/base",
          "model_name": "LayoutModel",
          "model_module_version": "1.2.0",
          "state": {
            "_model_module": "@jupyter-widgets/base",
            "_model_module_version": "1.2.0",
            "_model_name": "LayoutModel",
            "_view_count": null,
            "_view_module": "@jupyter-widgets/base",
            "_view_module_version": "1.2.0",
            "_view_name": "LayoutView",
            "align_content": null,
            "align_items": null,
            "align_self": null,
            "border": null,
            "bottom": null,
            "display": null,
            "flex": null,
            "flex_flow": null,
            "grid_area": null,
            "grid_auto_columns": null,
            "grid_auto_flow": null,
            "grid_auto_rows": null,
            "grid_column": null,
            "grid_gap": null,
            "grid_row": null,
            "grid_template_areas": null,
            "grid_template_columns": null,
            "grid_template_rows": null,
            "height": null,
            "justify_content": null,
            "justify_items": null,
            "left": null,
            "margin": null,
            "max_height": null,
            "max_width": null,
            "min_height": null,
            "min_width": null,
            "object_fit": null,
            "object_position": null,
            "order": null,
            "overflow": null,
            "overflow_x": null,
            "overflow_y": null,
            "padding": null,
            "right": null,
            "top": null,
            "visibility": null,
            "width": null
          }
        },
        "28cbcad6885b42a095255645537cb4f9": {
          "model_module": "@jupyter-widgets/base",
          "model_name": "LayoutModel",
          "model_module_version": "1.2.0",
          "state": {
            "_model_module": "@jupyter-widgets/base",
            "_model_module_version": "1.2.0",
            "_model_name": "LayoutModel",
            "_view_count": null,
            "_view_module": "@jupyter-widgets/base",
            "_view_module_version": "1.2.0",
            "_view_name": "LayoutView",
            "align_content": null,
            "align_items": null,
            "align_self": null,
            "border": null,
            "bottom": null,
            "display": null,
            "flex": null,
            "flex_flow": null,
            "grid_area": null,
            "grid_auto_columns": null,
            "grid_auto_flow": null,
            "grid_auto_rows": null,
            "grid_column": null,
            "grid_gap": null,
            "grid_row": null,
            "grid_template_areas": null,
            "grid_template_columns": null,
            "grid_template_rows": null,
            "height": null,
            "justify_content": null,
            "justify_items": null,
            "left": null,
            "margin": null,
            "max_height": null,
            "max_width": null,
            "min_height": null,
            "min_width": null,
            "object_fit": null,
            "object_position": null,
            "order": null,
            "overflow": null,
            "overflow_x": null,
            "overflow_y": null,
            "padding": null,
            "right": null,
            "top": null,
            "visibility": null,
            "width": null
          }
        },
        "d54c39b44ffb482fa7a077b89131e977": {
          "model_module": "@jupyter-widgets/controls",
          "model_name": "DescriptionStyleModel",
          "model_module_version": "1.5.0",
          "state": {
            "_model_module": "@jupyter-widgets/controls",
            "_model_module_version": "1.5.0",
            "_model_name": "DescriptionStyleModel",
            "_view_count": null,
            "_view_module": "@jupyter-widgets/base",
            "_view_module_version": "1.2.0",
            "_view_name": "StyleView",
            "description_width": ""
          }
        },
        "960f90ed58fc4c46b65ba2c4914741f0": {
          "model_module": "@jupyter-widgets/base",
          "model_name": "LayoutModel",
          "model_module_version": "1.2.0",
          "state": {
            "_model_module": "@jupyter-widgets/base",
            "_model_module_version": "1.2.0",
            "_model_name": "LayoutModel",
            "_view_count": null,
            "_view_module": "@jupyter-widgets/base",
            "_view_module_version": "1.2.0",
            "_view_name": "LayoutView",
            "align_content": null,
            "align_items": null,
            "align_self": null,
            "border": null,
            "bottom": null,
            "display": null,
            "flex": null,
            "flex_flow": null,
            "grid_area": null,
            "grid_auto_columns": null,
            "grid_auto_flow": null,
            "grid_auto_rows": null,
            "grid_column": null,
            "grid_gap": null,
            "grid_row": null,
            "grid_template_areas": null,
            "grid_template_columns": null,
            "grid_template_rows": null,
            "height": null,
            "justify_content": null,
            "justify_items": null,
            "left": null,
            "margin": null,
            "max_height": null,
            "max_width": null,
            "min_height": null,
            "min_width": null,
            "object_fit": null,
            "object_position": null,
            "order": null,
            "overflow": null,
            "overflow_x": null,
            "overflow_y": null,
            "padding": null,
            "right": null,
            "top": null,
            "visibility": null,
            "width": null
          }
        },
        "2411a3592f074e72967bfb6ed59c05eb": {
          "model_module": "@jupyter-widgets/controls",
          "model_name": "ProgressStyleModel",
          "model_module_version": "1.5.0",
          "state": {
            "_model_module": "@jupyter-widgets/controls",
            "_model_module_version": "1.5.0",
            "_model_name": "ProgressStyleModel",
            "_view_count": null,
            "_view_module": "@jupyter-widgets/base",
            "_view_module_version": "1.2.0",
            "_view_name": "StyleView",
            "bar_color": null,
            "description_width": ""
          }
        },
        "c59902b917de4d908961c3594d9b98ab": {
          "model_module": "@jupyter-widgets/base",
          "model_name": "LayoutModel",
          "model_module_version": "1.2.0",
          "state": {
            "_model_module": "@jupyter-widgets/base",
            "_model_module_version": "1.2.0",
            "_model_name": "LayoutModel",
            "_view_count": null,
            "_view_module": "@jupyter-widgets/base",
            "_view_module_version": "1.2.0",
            "_view_name": "LayoutView",
            "align_content": null,
            "align_items": null,
            "align_self": null,
            "border": null,
            "bottom": null,
            "display": null,
            "flex": null,
            "flex_flow": null,
            "grid_area": null,
            "grid_auto_columns": null,
            "grid_auto_flow": null,
            "grid_auto_rows": null,
            "grid_column": null,
            "grid_gap": null,
            "grid_row": null,
            "grid_template_areas": null,
            "grid_template_columns": null,
            "grid_template_rows": null,
            "height": null,
            "justify_content": null,
            "justify_items": null,
            "left": null,
            "margin": null,
            "max_height": null,
            "max_width": null,
            "min_height": null,
            "min_width": null,
            "object_fit": null,
            "object_position": null,
            "order": null,
            "overflow": null,
            "overflow_x": null,
            "overflow_y": null,
            "padding": null,
            "right": null,
            "top": null,
            "visibility": null,
            "width": null
          }
        },
        "155f3f9cef234500a2b91c8f28c2534d": {
          "model_module": "@jupyter-widgets/controls",
          "model_name": "DescriptionStyleModel",
          "model_module_version": "1.5.0",
          "state": {
            "_model_module": "@jupyter-widgets/controls",
            "_model_module_version": "1.5.0",
            "_model_name": "DescriptionStyleModel",
            "_view_count": null,
            "_view_module": "@jupyter-widgets/base",
            "_view_module_version": "1.2.0",
            "_view_name": "StyleView",
            "description_width": ""
          }
        },
        "edf27be54da14cc5bb0b254cabf7bb93": {
          "model_module": "@jupyter-widgets/controls",
          "model_name": "HBoxModel",
          "model_module_version": "1.5.0",
          "state": {
            "_dom_classes": [],
            "_model_module": "@jupyter-widgets/controls",
            "_model_module_version": "1.5.0",
            "_model_name": "HBoxModel",
            "_view_count": null,
            "_view_module": "@jupyter-widgets/controls",
            "_view_module_version": "1.5.0",
            "_view_name": "HBoxView",
            "box_style": "",
            "children": [
              "IPY_MODEL_6d6a85789d844aa387e30659c7175316",
              "IPY_MODEL_6a4ae1eae8eb4565a8cd6c8d62561a61",
              "IPY_MODEL_4f5d1580ba1e4a96970265a6eae03422"
            ],
            "layout": "IPY_MODEL_4dbbae9668fd4c3da632d96253874696"
          }
        },
        "6d6a85789d844aa387e30659c7175316": {
          "model_module": "@jupyter-widgets/controls",
          "model_name": "HTMLModel",
          "model_module_version": "1.5.0",
          "state": {
            "_dom_classes": [],
            "_model_module": "@jupyter-widgets/controls",
            "_model_module_version": "1.5.0",
            "_model_name": "HTMLModel",
            "_view_count": null,
            "_view_module": "@jupyter-widgets/controls",
            "_view_module_version": "1.5.0",
            "_view_name": "HTMLView",
            "description": "",
            "description_tooltip": null,
            "layout": "IPY_MODEL_0d6b04ba441c41c0a5e4edee5a0f5a30",
            "placeholder": "​",
            "style": "IPY_MODEL_f95e001789ca47288e9af818169683bd",
            "value": "tokenizer.json: 100%"
          }
        },
        "6a4ae1eae8eb4565a8cd6c8d62561a61": {
          "model_module": "@jupyter-widgets/controls",
          "model_name": "FloatProgressModel",
          "model_module_version": "1.5.0",
          "state": {
            "_dom_classes": [],
            "_model_module": "@jupyter-widgets/controls",
            "_model_module_version": "1.5.0",
            "_model_name": "FloatProgressModel",
            "_view_count": null,
            "_view_module": "@jupyter-widgets/controls",
            "_view_module_version": "1.5.0",
            "_view_name": "ProgressView",
            "bar_style": "success",
            "description": "",
            "description_tooltip": null,
            "layout": "IPY_MODEL_37cf7d7649a442c3bb0861fab6f01533",
            "max": 14500438,
            "min": 0,
            "orientation": "horizontal",
            "style": "IPY_MODEL_8ca20eceddb142999c2e312a2b6e5e06",
            "value": 14500438
          }
        },
        "4f5d1580ba1e4a96970265a6eae03422": {
          "model_module": "@jupyter-widgets/controls",
          "model_name": "HTMLModel",
          "model_module_version": "1.5.0",
          "state": {
            "_dom_classes": [],
            "_model_module": "@jupyter-widgets/controls",
            "_model_module_version": "1.5.0",
            "_model_name": "HTMLModel",
            "_view_count": null,
            "_view_module": "@jupyter-widgets/controls",
            "_view_module_version": "1.5.0",
            "_view_name": "HTMLView",
            "description": "",
            "description_tooltip": null,
            "layout": "IPY_MODEL_d49fdefcd63a420f97976bae000fd464",
            "placeholder": "​",
            "style": "IPY_MODEL_dc005f698882440f89a575c60d46b76b",
            "value": " 14.5M/14.5M [00:00&lt;00:00, 40.9MB/s]"
          }
        },
        "4dbbae9668fd4c3da632d96253874696": {
          "model_module": "@jupyter-widgets/base",
          "model_name": "LayoutModel",
          "model_module_version": "1.2.0",
          "state": {
            "_model_module": "@jupyter-widgets/base",
            "_model_module_version": "1.2.0",
            "_model_name": "LayoutModel",
            "_view_count": null,
            "_view_module": "@jupyter-widgets/base",
            "_view_module_version": "1.2.0",
            "_view_name": "LayoutView",
            "align_content": null,
            "align_items": null,
            "align_self": null,
            "border": null,
            "bottom": null,
            "display": null,
            "flex": null,
            "flex_flow": null,
            "grid_area": null,
            "grid_auto_columns": null,
            "grid_auto_flow": null,
            "grid_auto_rows": null,
            "grid_column": null,
            "grid_gap": null,
            "grid_row": null,
            "grid_template_areas": null,
            "grid_template_columns": null,
            "grid_template_rows": null,
            "height": null,
            "justify_content": null,
            "justify_items": null,
            "left": null,
            "margin": null,
            "max_height": null,
            "max_width": null,
            "min_height": null,
            "min_width": null,
            "object_fit": null,
            "object_position": null,
            "order": null,
            "overflow": null,
            "overflow_x": null,
            "overflow_y": null,
            "padding": null,
            "right": null,
            "top": null,
            "visibility": null,
            "width": null
          }
        },
        "0d6b04ba441c41c0a5e4edee5a0f5a30": {
          "model_module": "@jupyter-widgets/base",
          "model_name": "LayoutModel",
          "model_module_version": "1.2.0",
          "state": {
            "_model_module": "@jupyter-widgets/base",
            "_model_module_version": "1.2.0",
            "_model_name": "LayoutModel",
            "_view_count": null,
            "_view_module": "@jupyter-widgets/base",
            "_view_module_version": "1.2.0",
            "_view_name": "LayoutView",
            "align_content": null,
            "align_items": null,
            "align_self": null,
            "border": null,
            "bottom": null,
            "display": null,
            "flex": null,
            "flex_flow": null,
            "grid_area": null,
            "grid_auto_columns": null,
            "grid_auto_flow": null,
            "grid_auto_rows": null,
            "grid_column": null,
            "grid_gap": null,
            "grid_row": null,
            "grid_template_areas": null,
            "grid_template_columns": null,
            "grid_template_rows": null,
            "height": null,
            "justify_content": null,
            "justify_items": null,
            "left": null,
            "margin": null,
            "max_height": null,
            "max_width": null,
            "min_height": null,
            "min_width": null,
            "object_fit": null,
            "object_position": null,
            "order": null,
            "overflow": null,
            "overflow_x": null,
            "overflow_y": null,
            "padding": null,
            "right": null,
            "top": null,
            "visibility": null,
            "width": null
          }
        },
        "f95e001789ca47288e9af818169683bd": {
          "model_module": "@jupyter-widgets/controls",
          "model_name": "DescriptionStyleModel",
          "model_module_version": "1.5.0",
          "state": {
            "_model_module": "@jupyter-widgets/controls",
            "_model_module_version": "1.5.0",
            "_model_name": "DescriptionStyleModel",
            "_view_count": null,
            "_view_module": "@jupyter-widgets/base",
            "_view_module_version": "1.2.0",
            "_view_name": "StyleView",
            "description_width": ""
          }
        },
        "37cf7d7649a442c3bb0861fab6f01533": {
          "model_module": "@jupyter-widgets/base",
          "model_name": "LayoutModel",
          "model_module_version": "1.2.0",
          "state": {
            "_model_module": "@jupyter-widgets/base",
            "_model_module_version": "1.2.0",
            "_model_name": "LayoutModel",
            "_view_count": null,
            "_view_module": "@jupyter-widgets/base",
            "_view_module_version": "1.2.0",
            "_view_name": "LayoutView",
            "align_content": null,
            "align_items": null,
            "align_self": null,
            "border": null,
            "bottom": null,
            "display": null,
            "flex": null,
            "flex_flow": null,
            "grid_area": null,
            "grid_auto_columns": null,
            "grid_auto_flow": null,
            "grid_auto_rows": null,
            "grid_column": null,
            "grid_gap": null,
            "grid_row": null,
            "grid_template_areas": null,
            "grid_template_columns": null,
            "grid_template_rows": null,
            "height": null,
            "justify_content": null,
            "justify_items": null,
            "left": null,
            "margin": null,
            "max_height": null,
            "max_width": null,
            "min_height": null,
            "min_width": null,
            "object_fit": null,
            "object_position": null,
            "order": null,
            "overflow": null,
            "overflow_x": null,
            "overflow_y": null,
            "padding": null,
            "right": null,
            "top": null,
            "visibility": null,
            "width": null
          }
        },
        "8ca20eceddb142999c2e312a2b6e5e06": {
          "model_module": "@jupyter-widgets/controls",
          "model_name": "ProgressStyleModel",
          "model_module_version": "1.5.0",
          "state": {
            "_model_module": "@jupyter-widgets/controls",
            "_model_module_version": "1.5.0",
            "_model_name": "ProgressStyleModel",
            "_view_count": null,
            "_view_module": "@jupyter-widgets/base",
            "_view_module_version": "1.2.0",
            "_view_name": "StyleView",
            "bar_color": null,
            "description_width": ""
          }
        },
        "d49fdefcd63a420f97976bae000fd464": {
          "model_module": "@jupyter-widgets/base",
          "model_name": "LayoutModel",
          "model_module_version": "1.2.0",
          "state": {
            "_model_module": "@jupyter-widgets/base",
            "_model_module_version": "1.2.0",
            "_model_name": "LayoutModel",
            "_view_count": null,
            "_view_module": "@jupyter-widgets/base",
            "_view_module_version": "1.2.0",
            "_view_name": "LayoutView",
            "align_content": null,
            "align_items": null,
            "align_self": null,
            "border": null,
            "bottom": null,
            "display": null,
            "flex": null,
            "flex_flow": null,
            "grid_area": null,
            "grid_auto_columns": null,
            "grid_auto_flow": null,
            "grid_auto_rows": null,
            "grid_column": null,
            "grid_gap": null,
            "grid_row": null,
            "grid_template_areas": null,
            "grid_template_columns": null,
            "grid_template_rows": null,
            "height": null,
            "justify_content": null,
            "justify_items": null,
            "left": null,
            "margin": null,
            "max_height": null,
            "max_width": null,
            "min_height": null,
            "min_width": null,
            "object_fit": null,
            "object_position": null,
            "order": null,
            "overflow": null,
            "overflow_x": null,
            "overflow_y": null,
            "padding": null,
            "right": null,
            "top": null,
            "visibility": null,
            "width": null
          }
        },
        "dc005f698882440f89a575c60d46b76b": {
          "model_module": "@jupyter-widgets/controls",
          "model_name": "DescriptionStyleModel",
          "model_module_version": "1.5.0",
          "state": {
            "_model_module": "@jupyter-widgets/controls",
            "_model_module_version": "1.5.0",
            "_model_name": "DescriptionStyleModel",
            "_view_count": null,
            "_view_module": "@jupyter-widgets/base",
            "_view_module_version": "1.2.0",
            "_view_name": "StyleView",
            "description_width": ""
          }
        },
        "ad1314f96ffa46a2b38adde7cb47f3e5": {
          "model_module": "@jupyter-widgets/controls",
          "model_name": "HBoxModel",
          "model_module_version": "1.5.0",
          "state": {
            "_dom_classes": [],
            "_model_module": "@jupyter-widgets/controls",
            "_model_module_version": "1.5.0",
            "_model_name": "HBoxModel",
            "_view_count": null,
            "_view_module": "@jupyter-widgets/controls",
            "_view_module_version": "1.5.0",
            "_view_name": "HBoxView",
            "box_style": "",
            "children": [
              "IPY_MODEL_1e848d94937447c093ae348913e19436",
              "IPY_MODEL_ba54fe8613dd489ca12f3cc4ea518363",
              "IPY_MODEL_5869e5ffb3514f478f270e8a368ad54c"
            ],
            "layout": "IPY_MODEL_045244e7d99f418eb882df96f027d470"
          }
        },
        "1e848d94937447c093ae348913e19436": {
          "model_module": "@jupyter-widgets/controls",
          "model_name": "HTMLModel",
          "model_module_version": "1.5.0",
          "state": {
            "_dom_classes": [],
            "_model_module": "@jupyter-widgets/controls",
            "_model_module_version": "1.5.0",
            "_model_name": "HTMLModel",
            "_view_count": null,
            "_view_module": "@jupyter-widgets/controls",
            "_view_module_version": "1.5.0",
            "_view_name": "HTMLView",
            "description": "",
            "description_tooltip": null,
            "layout": "IPY_MODEL_5cd5caeac9f744d7a5171fc7dc03ea2a",
            "placeholder": "​",
            "style": "IPY_MODEL_775d2e50f9a8493080c5b13b68e5f944",
            "value": "special_tokens_map.json: 100%"
          }
        },
        "ba54fe8613dd489ca12f3cc4ea518363": {
          "model_module": "@jupyter-widgets/controls",
          "model_name": "FloatProgressModel",
          "model_module_version": "1.5.0",
          "state": {
            "_dom_classes": [],
            "_model_module": "@jupyter-widgets/controls",
            "_model_module_version": "1.5.0",
            "_model_name": "FloatProgressModel",
            "_view_count": null,
            "_view_module": "@jupyter-widgets/controls",
            "_view_module_version": "1.5.0",
            "_view_name": "ProgressView",
            "bar_style": "success",
            "description": "",
            "description_tooltip": null,
            "layout": "IPY_MODEL_846a0ac0fa2a4924ab81fff27bc2a72c",
            "max": 85,
            "min": 0,
            "orientation": "horizontal",
            "style": "IPY_MODEL_9acf5dcf781a4dc2b38f8674c2a5f29a",
            "value": 85
          }
        },
        "5869e5ffb3514f478f270e8a368ad54c": {
          "model_module": "@jupyter-widgets/controls",
          "model_name": "HTMLModel",
          "model_module_version": "1.5.0",
          "state": {
            "_dom_classes": [],
            "_model_module": "@jupyter-widgets/controls",
            "_model_module_version": "1.5.0",
            "_model_name": "HTMLModel",
            "_view_count": null,
            "_view_module": "@jupyter-widgets/controls",
            "_view_module_version": "1.5.0",
            "_view_name": "HTMLView",
            "description": "",
            "description_tooltip": null,
            "layout": "IPY_MODEL_b0de4f248dd145b49a5459d583d0194c",
            "placeholder": "​",
            "style": "IPY_MODEL_37466ee735a84024abaacbb679fcdd4c",
            "value": " 85.0/85.0 [00:00&lt;00:00, 922B/s]"
          }
        },
        "045244e7d99f418eb882df96f027d470": {
          "model_module": "@jupyter-widgets/base",
          "model_name": "LayoutModel",
          "model_module_version": "1.2.0",
          "state": {
            "_model_module": "@jupyter-widgets/base",
            "_model_module_version": "1.2.0",
            "_model_name": "LayoutModel",
            "_view_count": null,
            "_view_module": "@jupyter-widgets/base",
            "_view_module_version": "1.2.0",
            "_view_name": "LayoutView",
            "align_content": null,
            "align_items": null,
            "align_self": null,
            "border": null,
            "bottom": null,
            "display": null,
            "flex": null,
            "flex_flow": null,
            "grid_area": null,
            "grid_auto_columns": null,
            "grid_auto_flow": null,
            "grid_auto_rows": null,
            "grid_column": null,
            "grid_gap": null,
            "grid_row": null,
            "grid_template_areas": null,
            "grid_template_columns": null,
            "grid_template_rows": null,
            "height": null,
            "justify_content": null,
            "justify_items": null,
            "left": null,
            "margin": null,
            "max_height": null,
            "max_width": null,
            "min_height": null,
            "min_width": null,
            "object_fit": null,
            "object_position": null,
            "order": null,
            "overflow": null,
            "overflow_x": null,
            "overflow_y": null,
            "padding": null,
            "right": null,
            "top": null,
            "visibility": null,
            "width": null
          }
        },
        "5cd5caeac9f744d7a5171fc7dc03ea2a": {
          "model_module": "@jupyter-widgets/base",
          "model_name": "LayoutModel",
          "model_module_version": "1.2.0",
          "state": {
            "_model_module": "@jupyter-widgets/base",
            "_model_module_version": "1.2.0",
            "_model_name": "LayoutModel",
            "_view_count": null,
            "_view_module": "@jupyter-widgets/base",
            "_view_module_version": "1.2.0",
            "_view_name": "LayoutView",
            "align_content": null,
            "align_items": null,
            "align_self": null,
            "border": null,
            "bottom": null,
            "display": null,
            "flex": null,
            "flex_flow": null,
            "grid_area": null,
            "grid_auto_columns": null,
            "grid_auto_flow": null,
            "grid_auto_rows": null,
            "grid_column": null,
            "grid_gap": null,
            "grid_row": null,
            "grid_template_areas": null,
            "grid_template_columns": null,
            "grid_template_rows": null,
            "height": null,
            "justify_content": null,
            "justify_items": null,
            "left": null,
            "margin": null,
            "max_height": null,
            "max_width": null,
            "min_height": null,
            "min_width": null,
            "object_fit": null,
            "object_position": null,
            "order": null,
            "overflow": null,
            "overflow_x": null,
            "overflow_y": null,
            "padding": null,
            "right": null,
            "top": null,
            "visibility": null,
            "width": null
          }
        },
        "775d2e50f9a8493080c5b13b68e5f944": {
          "model_module": "@jupyter-widgets/controls",
          "model_name": "DescriptionStyleModel",
          "model_module_version": "1.5.0",
          "state": {
            "_model_module": "@jupyter-widgets/controls",
            "_model_module_version": "1.5.0",
            "_model_name": "DescriptionStyleModel",
            "_view_count": null,
            "_view_module": "@jupyter-widgets/base",
            "_view_module_version": "1.2.0",
            "_view_name": "StyleView",
            "description_width": ""
          }
        },
        "846a0ac0fa2a4924ab81fff27bc2a72c": {
          "model_module": "@jupyter-widgets/base",
          "model_name": "LayoutModel",
          "model_module_version": "1.2.0",
          "state": {
            "_model_module": "@jupyter-widgets/base",
            "_model_module_version": "1.2.0",
            "_model_name": "LayoutModel",
            "_view_count": null,
            "_view_module": "@jupyter-widgets/base",
            "_view_module_version": "1.2.0",
            "_view_name": "LayoutView",
            "align_content": null,
            "align_items": null,
            "align_self": null,
            "border": null,
            "bottom": null,
            "display": null,
            "flex": null,
            "flex_flow": null,
            "grid_area": null,
            "grid_auto_columns": null,
            "grid_auto_flow": null,
            "grid_auto_rows": null,
            "grid_column": null,
            "grid_gap": null,
            "grid_row": null,
            "grid_template_areas": null,
            "grid_template_columns": null,
            "grid_template_rows": null,
            "height": null,
            "justify_content": null,
            "justify_items": null,
            "left": null,
            "margin": null,
            "max_height": null,
            "max_width": null,
            "min_height": null,
            "min_width": null,
            "object_fit": null,
            "object_position": null,
            "order": null,
            "overflow": null,
            "overflow_x": null,
            "overflow_y": null,
            "padding": null,
            "right": null,
            "top": null,
            "visibility": null,
            "width": null
          }
        },
        "9acf5dcf781a4dc2b38f8674c2a5f29a": {
          "model_module": "@jupyter-widgets/controls",
          "model_name": "ProgressStyleModel",
          "model_module_version": "1.5.0",
          "state": {
            "_model_module": "@jupyter-widgets/controls",
            "_model_module_version": "1.5.0",
            "_model_name": "ProgressStyleModel",
            "_view_count": null,
            "_view_module": "@jupyter-widgets/base",
            "_view_module_version": "1.2.0",
            "_view_name": "StyleView",
            "bar_color": null,
            "description_width": ""
          }
        },
        "b0de4f248dd145b49a5459d583d0194c": {
          "model_module": "@jupyter-widgets/base",
          "model_name": "LayoutModel",
          "model_module_version": "1.2.0",
          "state": {
            "_model_module": "@jupyter-widgets/base",
            "_model_module_version": "1.2.0",
            "_model_name": "LayoutModel",
            "_view_count": null,
            "_view_module": "@jupyter-widgets/base",
            "_view_module_version": "1.2.0",
            "_view_name": "LayoutView",
            "align_content": null,
            "align_items": null,
            "align_self": null,
            "border": null,
            "bottom": null,
            "display": null,
            "flex": null,
            "flex_flow": null,
            "grid_area": null,
            "grid_auto_columns": null,
            "grid_auto_flow": null,
            "grid_auto_rows": null,
            "grid_column": null,
            "grid_gap": null,
            "grid_row": null,
            "grid_template_areas": null,
            "grid_template_columns": null,
            "grid_template_rows": null,
            "height": null,
            "justify_content": null,
            "justify_items": null,
            "left": null,
            "margin": null,
            "max_height": null,
            "max_width": null,
            "min_height": null,
            "min_width": null,
            "object_fit": null,
            "object_position": null,
            "order": null,
            "overflow": null,
            "overflow_x": null,
            "overflow_y": null,
            "padding": null,
            "right": null,
            "top": null,
            "visibility": null,
            "width": null
          }
        },
        "37466ee735a84024abaacbb679fcdd4c": {
          "model_module": "@jupyter-widgets/controls",
          "model_name": "DescriptionStyleModel",
          "model_module_version": "1.5.0",
          "state": {
            "_model_module": "@jupyter-widgets/controls",
            "_model_module_version": "1.5.0",
            "_model_name": "DescriptionStyleModel",
            "_view_count": null,
            "_view_module": "@jupyter-widgets/base",
            "_view_module_version": "1.2.0",
            "_view_name": "StyleView",
            "description_width": ""
          }
        },
        "415f6327fda946e9aef1066afc667b15": {
          "model_module": "@jupyter-widgets/controls",
          "model_name": "HBoxModel",
          "model_module_version": "1.5.0",
          "state": {
            "_dom_classes": [],
            "_model_module": "@jupyter-widgets/controls",
            "_model_module_version": "1.5.0",
            "_model_name": "HBoxModel",
            "_view_count": null,
            "_view_module": "@jupyter-widgets/controls",
            "_view_module_version": "1.5.0",
            "_view_name": "HBoxView",
            "box_style": "",
            "children": [
              "IPY_MODEL_e38571703e0a42aab7d08c55bd762a09",
              "IPY_MODEL_ac10fe775f434abc957572623ba168bc",
              "IPY_MODEL_dbcd054a172446d3a159d11ab069f241"
            ],
            "layout": "IPY_MODEL_f12787779bd84b4c978dddb5f0e90b94"
          }
        },
        "e38571703e0a42aab7d08c55bd762a09": {
          "model_module": "@jupyter-widgets/controls",
          "model_name": "HTMLModel",
          "model_module_version": "1.5.0",
          "state": {
            "_dom_classes": [],
            "_model_module": "@jupyter-widgets/controls",
            "_model_module_version": "1.5.0",
            "_model_name": "HTMLModel",
            "_view_count": null,
            "_view_module": "@jupyter-widgets/controls",
            "_view_module_version": "1.5.0",
            "_view_name": "HTMLView",
            "description": "",
            "description_tooltip": null,
            "layout": "IPY_MODEL_04843828d31d418f91caf31a9348c280",
            "placeholder": "​",
            "style": "IPY_MODEL_1a86e22794ca4fabaf90f1b570a449e6",
            "value": "config.json: 100%"
          }
        },
        "ac10fe775f434abc957572623ba168bc": {
          "model_module": "@jupyter-widgets/controls",
          "model_name": "FloatProgressModel",
          "model_module_version": "1.5.0",
          "state": {
            "_dom_classes": [],
            "_model_module": "@jupyter-widgets/controls",
            "_model_module_version": "1.5.0",
            "_model_name": "FloatProgressModel",
            "_view_count": null,
            "_view_module": "@jupyter-widgets/controls",
            "_view_module_version": "1.5.0",
            "_view_name": "ProgressView",
            "bar_style": "success",
            "description": "",
            "description_tooltip": null,
            "layout": "IPY_MODEL_77ee10caeac34bd5bb542cfa1239d3e7",
            "max": 715,
            "min": 0,
            "orientation": "horizontal",
            "style": "IPY_MODEL_9e53f873078042238227c4d52348fc01",
            "value": 715
          }
        },
        "dbcd054a172446d3a159d11ab069f241": {
          "model_module": "@jupyter-widgets/controls",
          "model_name": "HTMLModel",
          "model_module_version": "1.5.0",
          "state": {
            "_dom_classes": [],
            "_model_module": "@jupyter-widgets/controls",
            "_model_module_version": "1.5.0",
            "_model_name": "HTMLModel",
            "_view_count": null,
            "_view_module": "@jupyter-widgets/controls",
            "_view_module_version": "1.5.0",
            "_view_name": "HTMLView",
            "description": "",
            "description_tooltip": null,
            "layout": "IPY_MODEL_0a5ab4c6f8224dc2bb10bdd3aa7d1170",
            "placeholder": "​",
            "style": "IPY_MODEL_c16159ee50564b86a2dd1bb5b24a2247",
            "value": " 715/715 [00:00&lt;00:00, 7.81kB/s]"
          }
        },
        "f12787779bd84b4c978dddb5f0e90b94": {
          "model_module": "@jupyter-widgets/base",
          "model_name": "LayoutModel",
          "model_module_version": "1.2.0",
          "state": {
            "_model_module": "@jupyter-widgets/base",
            "_model_module_version": "1.2.0",
            "_model_name": "LayoutModel",
            "_view_count": null,
            "_view_module": "@jupyter-widgets/base",
            "_view_module_version": "1.2.0",
            "_view_name": "LayoutView",
            "align_content": null,
            "align_items": null,
            "align_self": null,
            "border": null,
            "bottom": null,
            "display": null,
            "flex": null,
            "flex_flow": null,
            "grid_area": null,
            "grid_auto_columns": null,
            "grid_auto_flow": null,
            "grid_auto_rows": null,
            "grid_column": null,
            "grid_gap": null,
            "grid_row": null,
            "grid_template_areas": null,
            "grid_template_columns": null,
            "grid_template_rows": null,
            "height": null,
            "justify_content": null,
            "justify_items": null,
            "left": null,
            "margin": null,
            "max_height": null,
            "max_width": null,
            "min_height": null,
            "min_width": null,
            "object_fit": null,
            "object_position": null,
            "order": null,
            "overflow": null,
            "overflow_x": null,
            "overflow_y": null,
            "padding": null,
            "right": null,
            "top": null,
            "visibility": null,
            "width": null
          }
        },
        "04843828d31d418f91caf31a9348c280": {
          "model_module": "@jupyter-widgets/base",
          "model_name": "LayoutModel",
          "model_module_version": "1.2.0",
          "state": {
            "_model_module": "@jupyter-widgets/base",
            "_model_module_version": "1.2.0",
            "_model_name": "LayoutModel",
            "_view_count": null,
            "_view_module": "@jupyter-widgets/base",
            "_view_module_version": "1.2.0",
            "_view_name": "LayoutView",
            "align_content": null,
            "align_items": null,
            "align_self": null,
            "border": null,
            "bottom": null,
            "display": null,
            "flex": null,
            "flex_flow": null,
            "grid_area": null,
            "grid_auto_columns": null,
            "grid_auto_flow": null,
            "grid_auto_rows": null,
            "grid_column": null,
            "grid_gap": null,
            "grid_row": null,
            "grid_template_areas": null,
            "grid_template_columns": null,
            "grid_template_rows": null,
            "height": null,
            "justify_content": null,
            "justify_items": null,
            "left": null,
            "margin": null,
            "max_height": null,
            "max_width": null,
            "min_height": null,
            "min_width": null,
            "object_fit": null,
            "object_position": null,
            "order": null,
            "overflow": null,
            "overflow_x": null,
            "overflow_y": null,
            "padding": null,
            "right": null,
            "top": null,
            "visibility": null,
            "width": null
          }
        },
        "1a86e22794ca4fabaf90f1b570a449e6": {
          "model_module": "@jupyter-widgets/controls",
          "model_name": "DescriptionStyleModel",
          "model_module_version": "1.5.0",
          "state": {
            "_model_module": "@jupyter-widgets/controls",
            "_model_module_version": "1.5.0",
            "_model_name": "DescriptionStyleModel",
            "_view_count": null,
            "_view_module": "@jupyter-widgets/base",
            "_view_module_version": "1.2.0",
            "_view_name": "StyleView",
            "description_width": ""
          }
        },
        "77ee10caeac34bd5bb542cfa1239d3e7": {
          "model_module": "@jupyter-widgets/base",
          "model_name": "LayoutModel",
          "model_module_version": "1.2.0",
          "state": {
            "_model_module": "@jupyter-widgets/base",
            "_model_module_version": "1.2.0",
            "_model_name": "LayoutModel",
            "_view_count": null,
            "_view_module": "@jupyter-widgets/base",
            "_view_module_version": "1.2.0",
            "_view_name": "LayoutView",
            "align_content": null,
            "align_items": null,
            "align_self": null,
            "border": null,
            "bottom": null,
            "display": null,
            "flex": null,
            "flex_flow": null,
            "grid_area": null,
            "grid_auto_columns": null,
            "grid_auto_flow": null,
            "grid_auto_rows": null,
            "grid_column": null,
            "grid_gap": null,
            "grid_row": null,
            "grid_template_areas": null,
            "grid_template_columns": null,
            "grid_template_rows": null,
            "height": null,
            "justify_content": null,
            "justify_items": null,
            "left": null,
            "margin": null,
            "max_height": null,
            "max_width": null,
            "min_height": null,
            "min_width": null,
            "object_fit": null,
            "object_position": null,
            "order": null,
            "overflow": null,
            "overflow_x": null,
            "overflow_y": null,
            "padding": null,
            "right": null,
            "top": null,
            "visibility": null,
            "width": null
          }
        },
        "9e53f873078042238227c4d52348fc01": {
          "model_module": "@jupyter-widgets/controls",
          "model_name": "ProgressStyleModel",
          "model_module_version": "1.5.0",
          "state": {
            "_model_module": "@jupyter-widgets/controls",
            "_model_module_version": "1.5.0",
            "_model_name": "ProgressStyleModel",
            "_view_count": null,
            "_view_module": "@jupyter-widgets/base",
            "_view_module_version": "1.2.0",
            "_view_name": "StyleView",
            "bar_color": null,
            "description_width": ""
          }
        },
        "0a5ab4c6f8224dc2bb10bdd3aa7d1170": {
          "model_module": "@jupyter-widgets/base",
          "model_name": "LayoutModel",
          "model_module_version": "1.2.0",
          "state": {
            "_model_module": "@jupyter-widgets/base",
            "_model_module_version": "1.2.0",
            "_model_name": "LayoutModel",
            "_view_count": null,
            "_view_module": "@jupyter-widgets/base",
            "_view_module_version": "1.2.0",
            "_view_name": "LayoutView",
            "align_content": null,
            "align_items": null,
            "align_self": null,
            "border": null,
            "bottom": null,
            "display": null,
            "flex": null,
            "flex_flow": null,
            "grid_area": null,
            "grid_auto_columns": null,
            "grid_auto_flow": null,
            "grid_auto_rows": null,
            "grid_column": null,
            "grid_gap": null,
            "grid_row": null,
            "grid_template_areas": null,
            "grid_template_columns": null,
            "grid_template_rows": null,
            "height": null,
            "justify_content": null,
            "justify_items": null,
            "left": null,
            "margin": null,
            "max_height": null,
            "max_width": null,
            "min_height": null,
            "min_width": null,
            "object_fit": null,
            "object_position": null,
            "order": null,
            "overflow": null,
            "overflow_x": null,
            "overflow_y": null,
            "padding": null,
            "right": null,
            "top": null,
            "visibility": null,
            "width": null
          }
        },
        "c16159ee50564b86a2dd1bb5b24a2247": {
          "model_module": "@jupyter-widgets/controls",
          "model_name": "DescriptionStyleModel",
          "model_module_version": "1.5.0",
          "state": {
            "_model_module": "@jupyter-widgets/controls",
            "_model_module_version": "1.5.0",
            "_model_name": "DescriptionStyleModel",
            "_view_count": null,
            "_view_module": "@jupyter-widgets/base",
            "_view_module_version": "1.2.0",
            "_view_name": "StyleView",
            "description_width": ""
          }
        },
        "7b1fccc32b73450c98bafac00256ec23": {
          "model_module": "@jupyter-widgets/controls",
          "model_name": "HBoxModel",
          "model_module_version": "1.5.0",
          "state": {
            "_dom_classes": [],
            "_model_module": "@jupyter-widgets/controls",
            "_model_module_version": "1.5.0",
            "_model_name": "HBoxModel",
            "_view_count": null,
            "_view_module": "@jupyter-widgets/controls",
            "_view_module_version": "1.5.0",
            "_view_name": "HBoxView",
            "box_style": "",
            "children": [
              "IPY_MODEL_4d85d2c9ca974462a58a6fc539dcbb41",
              "IPY_MODEL_053fbce19c974905bb056fb5fc47691a",
              "IPY_MODEL_d4b89152f5174c60a4fac62f73552002"
            ],
            "layout": "IPY_MODEL_ee5468a5f3bb40e8b77576c359c60659"
          }
        },
        "4d85d2c9ca974462a58a6fc539dcbb41": {
          "model_module": "@jupyter-widgets/controls",
          "model_name": "HTMLModel",
          "model_module_version": "1.5.0",
          "state": {
            "_dom_classes": [],
            "_model_module": "@jupyter-widgets/controls",
            "_model_module_version": "1.5.0",
            "_model_name": "HTMLModel",
            "_view_count": null,
            "_view_module": "@jupyter-widgets/controls",
            "_view_module_version": "1.5.0",
            "_view_name": "HTMLView",
            "description": "",
            "description_tooltip": null,
            "layout": "IPY_MODEL_513c11d262b34003a1e8f004fe129c28",
            "placeholder": "​",
            "style": "IPY_MODEL_d6d5a37095474eebab70471e52263b3b",
            "value": "model.safetensors: 100%"
          }
        },
        "053fbce19c974905bb056fb5fc47691a": {
          "model_module": "@jupyter-widgets/controls",
          "model_name": "FloatProgressModel",
          "model_module_version": "1.5.0",
          "state": {
            "_dom_classes": [],
            "_model_module": "@jupyter-widgets/controls",
            "_model_module_version": "1.5.0",
            "_model_name": "FloatProgressModel",
            "_view_count": null,
            "_view_module": "@jupyter-widgets/controls",
            "_view_module_version": "1.5.0",
            "_view_name": "ProgressView",
            "bar_style": "success",
            "description": "",
            "description_tooltip": null,
            "layout": "IPY_MODEL_bb1495d8ace54ed0afdf5a5d92c0e831",
            "max": 3444848602,
            "min": 0,
            "orientation": "horizontal",
            "style": "IPY_MODEL_8f8dba518c2749b699315447aa278757",
            "value": 3444848602
          }
        },
        "d4b89152f5174c60a4fac62f73552002": {
          "model_module": "@jupyter-widgets/controls",
          "model_name": "HTMLModel",
          "model_module_version": "1.5.0",
          "state": {
            "_dom_classes": [],
            "_model_module": "@jupyter-widgets/controls",
            "_model_module_version": "1.5.0",
            "_model_name": "HTMLModel",
            "_view_count": null,
            "_view_module": "@jupyter-widgets/controls",
            "_view_module_version": "1.5.0",
            "_view_name": "HTMLView",
            "description": "",
            "description_tooltip": null,
            "layout": "IPY_MODEL_1ebfff138ad3474eab3e740766cc2839",
            "placeholder": "​",
            "style": "IPY_MODEL_bc3c54c140b54f528a8d571ca34f1a63",
            "value": " 3.44G/3.44G [01:18&lt;00:00, 72.1MB/s]"
          }
        },
        "ee5468a5f3bb40e8b77576c359c60659": {
          "model_module": "@jupyter-widgets/base",
          "model_name": "LayoutModel",
          "model_module_version": "1.2.0",
          "state": {
            "_model_module": "@jupyter-widgets/base",
            "_model_module_version": "1.2.0",
            "_model_name": "LayoutModel",
            "_view_count": null,
            "_view_module": "@jupyter-widgets/base",
            "_view_module_version": "1.2.0",
            "_view_name": "LayoutView",
            "align_content": null,
            "align_items": null,
            "align_self": null,
            "border": null,
            "bottom": null,
            "display": null,
            "flex": null,
            "flex_flow": null,
            "grid_area": null,
            "grid_auto_columns": null,
            "grid_auto_flow": null,
            "grid_auto_rows": null,
            "grid_column": null,
            "grid_gap": null,
            "grid_row": null,
            "grid_template_areas": null,
            "grid_template_columns": null,
            "grid_template_rows": null,
            "height": null,
            "justify_content": null,
            "justify_items": null,
            "left": null,
            "margin": null,
            "max_height": null,
            "max_width": null,
            "min_height": null,
            "min_width": null,
            "object_fit": null,
            "object_position": null,
            "order": null,
            "overflow": null,
            "overflow_x": null,
            "overflow_y": null,
            "padding": null,
            "right": null,
            "top": null,
            "visibility": null,
            "width": null
          }
        },
        "513c11d262b34003a1e8f004fe129c28": {
          "model_module": "@jupyter-widgets/base",
          "model_name": "LayoutModel",
          "model_module_version": "1.2.0",
          "state": {
            "_model_module": "@jupyter-widgets/base",
            "_model_module_version": "1.2.0",
            "_model_name": "LayoutModel",
            "_view_count": null,
            "_view_module": "@jupyter-widgets/base",
            "_view_module_version": "1.2.0",
            "_view_name": "LayoutView",
            "align_content": null,
            "align_items": null,
            "align_self": null,
            "border": null,
            "bottom": null,
            "display": null,
            "flex": null,
            "flex_flow": null,
            "grid_area": null,
            "grid_auto_columns": null,
            "grid_auto_flow": null,
            "grid_auto_rows": null,
            "grid_column": null,
            "grid_gap": null,
            "grid_row": null,
            "grid_template_areas": null,
            "grid_template_columns": null,
            "grid_template_rows": null,
            "height": null,
            "justify_content": null,
            "justify_items": null,
            "left": null,
            "margin": null,
            "max_height": null,
            "max_width": null,
            "min_height": null,
            "min_width": null,
            "object_fit": null,
            "object_position": null,
            "order": null,
            "overflow": null,
            "overflow_x": null,
            "overflow_y": null,
            "padding": null,
            "right": null,
            "top": null,
            "visibility": null,
            "width": null
          }
        },
        "d6d5a37095474eebab70471e52263b3b": {
          "model_module": "@jupyter-widgets/controls",
          "model_name": "DescriptionStyleModel",
          "model_module_version": "1.5.0",
          "state": {
            "_model_module": "@jupyter-widgets/controls",
            "_model_module_version": "1.5.0",
            "_model_name": "DescriptionStyleModel",
            "_view_count": null,
            "_view_module": "@jupyter-widgets/base",
            "_view_module_version": "1.2.0",
            "_view_name": "StyleView",
            "description_width": ""
          }
        },
        "bb1495d8ace54ed0afdf5a5d92c0e831": {
          "model_module": "@jupyter-widgets/base",
          "model_name": "LayoutModel",
          "model_module_version": "1.2.0",
          "state": {
            "_model_module": "@jupyter-widgets/base",
            "_model_module_version": "1.2.0",
            "_model_name": "LayoutModel",
            "_view_count": null,
            "_view_module": "@jupyter-widgets/base",
            "_view_module_version": "1.2.0",
            "_view_name": "LayoutView",
            "align_content": null,
            "align_items": null,
            "align_self": null,
            "border": null,
            "bottom": null,
            "display": null,
            "flex": null,
            "flex_flow": null,
            "grid_area": null,
            "grid_auto_columns": null,
            "grid_auto_flow": null,
            "grid_auto_rows": null,
            "grid_column": null,
            "grid_gap": null,
            "grid_row": null,
            "grid_template_areas": null,
            "grid_template_columns": null,
            "grid_template_rows": null,
            "height": null,
            "justify_content": null,
            "justify_items": null,
            "left": null,
            "margin": null,
            "max_height": null,
            "max_width": null,
            "min_height": null,
            "min_width": null,
            "object_fit": null,
            "object_position": null,
            "order": null,
            "overflow": null,
            "overflow_x": null,
            "overflow_y": null,
            "padding": null,
            "right": null,
            "top": null,
            "visibility": null,
            "width": null
          }
        },
        "8f8dba518c2749b699315447aa278757": {
          "model_module": "@jupyter-widgets/controls",
          "model_name": "ProgressStyleModel",
          "model_module_version": "1.5.0",
          "state": {
            "_model_module": "@jupyter-widgets/controls",
            "_model_module_version": "1.5.0",
            "_model_name": "ProgressStyleModel",
            "_view_count": null,
            "_view_module": "@jupyter-widgets/base",
            "_view_module_version": "1.2.0",
            "_view_name": "StyleView",
            "bar_color": null,
            "description_width": ""
          }
        },
        "1ebfff138ad3474eab3e740766cc2839": {
          "model_module": "@jupyter-widgets/base",
          "model_name": "LayoutModel",
          "model_module_version": "1.2.0",
          "state": {
            "_model_module": "@jupyter-widgets/base",
            "_model_module_version": "1.2.0",
            "_model_name": "LayoutModel",
            "_view_count": null,
            "_view_module": "@jupyter-widgets/base",
            "_view_module_version": "1.2.0",
            "_view_name": "LayoutView",
            "align_content": null,
            "align_items": null,
            "align_self": null,
            "border": null,
            "bottom": null,
            "display": null,
            "flex": null,
            "flex_flow": null,
            "grid_area": null,
            "grid_auto_columns": null,
            "grid_auto_flow": null,
            "grid_auto_rows": null,
            "grid_column": null,
            "grid_gap": null,
            "grid_row": null,
            "grid_template_areas": null,
            "grid_template_columns": null,
            "grid_template_rows": null,
            "height": null,
            "justify_content": null,
            "justify_items": null,
            "left": null,
            "margin": null,
            "max_height": null,
            "max_width": null,
            "min_height": null,
            "min_width": null,
            "object_fit": null,
            "object_position": null,
            "order": null,
            "overflow": null,
            "overflow_x": null,
            "overflow_y": null,
            "padding": null,
            "right": null,
            "top": null,
            "visibility": null,
            "width": null
          }
        },
        "bc3c54c140b54f528a8d571ca34f1a63": {
          "model_module": "@jupyter-widgets/controls",
          "model_name": "DescriptionStyleModel",
          "model_module_version": "1.5.0",
          "state": {
            "_model_module": "@jupyter-widgets/controls",
            "_model_module_version": "1.5.0",
            "_model_name": "DescriptionStyleModel",
            "_view_count": null,
            "_view_module": "@jupyter-widgets/base",
            "_view_module_version": "1.2.0",
            "_view_name": "StyleView",
            "description_width": ""
          }
        }
      }
    }
  },
  "cells": [
    {
      "cell_type": "markdown",
      "source": [
        "# **BLOOM**\n",
        "\n",
        "BigScience Large Open-science Open-access Multilingual Language Model (BLOOM for short), represents a considerable advance in democratizing language model technology.\n",
        "\n",
        "Developed collaboratively by over 1200 participants from 39 countries, including a significant number from the United States, BLOOM is the product of a global effort. Coordinated by BigScience in collaboration with Hugging Face and the French NLP community, this project transcends geographical and institutional boundaries.\n",
        "\n",
        "It is an open-source and a decoder-only transformer model with 176B-parameter trained on the ROOTS corpus, which is a dataset of over hundreds of sources in 59 languages: 46 spoken languages and 13 programming languages.\n",
        "\n"
      ],
      "metadata": {
        "id": "t90OibE01rLH"
      }
    },
    {
      "cell_type": "markdown",
      "source": [
        "\n",
        "\n",
        "# **Bloom** Architecture\n",
        "BLOOM is a causal model language, which means that it was trained as a next-token predictor.  This enables BLOOM  to connect multiple concepts in a sentence and manage to solve non-trivial problems such as arithmetic, translation, and programming with fair accuracy. BLOOM uses a Transformer architecture composed of an input embeddings layer, 70 Transformer blocks, and an output language-modeling layer, as shown in the figure below. Each Transformer block has a self-attention layer and a multi-layer perceptron layer, with input and post-attention layer norms.\n",
        "\n",
        "\n",
        "![Screenshot 2024-05-24 002810.png](data:image/png;base64,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)\n",
        "\n"
      ],
      "metadata": {
        "id": "jg3ZhuYk3PSp"
      }
    },
    {
      "cell_type": "markdown",
      "source": [
        "# **Uses of BLOOM**\n",
        "\n",
        "BLOOM is a versatile tool designed to push the boundaries of language processing and generation. Its intended uses span across various domains, each leveraging its expansive language capabilities.\n",
        "\n",
        "**Multilingual Content Generation**:\n",
        "\n",
        " With proficiency in 59 languages, BLOOM excels at creating diverse and inclusive content. This capability is particularly valuable in global communication, education, and media, where language inclusivity is crucial.\n",
        "\n",
        "**Coding and Software Development:**\n",
        "\n",
        " BLOOM's training in programming languages positions it as an asset in software development. It can assist in tasks like code generation, debugging, and serving as an educational tool for new programmers.\n",
        "\n",
        "**Research and Academia:**\n",
        "\n",
        " In academic circles, BLOOM serves as a powerful resource for linguistic analysis and AI research, providing insights into language patterns, AI behavior, and more."
      ],
      "metadata": {
        "id": "0P0O_Mry2zjH"
      }
    },
    {
      "cell_type": "markdown",
      "source": [
        "# **Setup**\n",
        "\n",
        "\n",
        "**Steps**\n",
        "1. Go to RunTime and select Change Runtime from CPU to Available GPU\n",
        "2.\n",
        "Run the model and tokenizer in GPU else the code fails.\n",
        "\n",
        "Initially I imported transformers and Pytorch .\n",
        "PyTorch is a fully featured framework for building deep learning models.\n",
        "PyTorch is distinctive for its excellent support for GPUs and its use of reverse-mode auto-differentiation, which enables computation graphs to be modified on the fly. This makes it a popular choice for fast experimentation and prototyping."
      ],
      "metadata": {
        "id": "w11KszSq1WDr"
      }
    },
    {
      "cell_type": "code",
      "execution_count": 1,
      "metadata": {
        "id": "9tmEfSskzQbK"
      },
      "outputs": [],
      "source": [
        "!pip install transformers -q"
      ]
    },
    {
      "cell_type": "markdown",
      "source": [
        "This is taken directly from Hugging face"
      ],
      "metadata": {
        "id": "fmJ4M3Xcw3vT"
      }
    },
    {
      "cell_type": "code",
      "source": [
        "# Load model directly\n",
        "from transformers import AutoTokenizer, AutoModelForCausalLM, set_seed"
      ],
      "metadata": {
        "id": "BovOaEVnOQ1B"
      },
      "execution_count": 2,
      "outputs": []
    },
    {
      "cell_type": "markdown",
      "source": [],
      "metadata": {
        "id": "0UchVwE1zMH-"
      }
    },
    {
      "cell_type": "code",
      "source": [
        "import torch\n",
        "torch.set_default_tensor_type(torch.cuda.FloatTensor)"
      ],
      "metadata": {
        "colab": {
          "base_uri": "https://localhost:8080/"
        },
        "id": "gxNIzGSIhaoy",
        "outputId": "5d67dea4-8c12-440c-84de-84881cd3bcf4"
      },
      "execution_count": 3,
      "outputs": [
        {
          "output_type": "stream",
          "name": "stderr",
          "text": [
            "/usr/local/lib/python3.10/dist-packages/torch/__init__.py:747: UserWarning: torch.set_default_tensor_type() is deprecated as of PyTorch 2.1, please use torch.set_default_dtype() and torch.set_default_device() as alternatives. (Triggered internally at ../torch/csrc/tensor/python_tensor.cpp:431.)\n",
            "  _C._set_default_tensor_type(t)\n"
          ]
        }
      ]
    },
    {
      "cell_type": "markdown",
      "source": [
        "CUDA stands for Compute Unified Device Architecture.\n",
        "\n",
        " It  is a proprietary parallel computing platform and application programming interface (API) that allows software to use certain types of graphics processing units (GPUs) for accelerated general-purpose processing"
      ],
      "metadata": {
        "id": "W6qsYu-bxtzw"
      }
    },
    {
      "cell_type": "code",
      "source": [
        "tokenizer = AutoTokenizer.from_pretrained(\"bigscience/bloom-560m\")"
      ],
      "metadata": {
        "colab": {
          "base_uri": "https://localhost:8080/",
          "height": 237,
          "referenced_widgets": [
            "4378ff076a6445a8bb23df45ab3f9876",
            "10decb3aec2a4bbfbfddd5a5137e1631",
            "b2e2ab54b08f4d099b65f8a3b693ff84",
            "9d5fe2a34c3f47559a6fe15cdc96855c",
            "ea3cfb4308f9427e9f80b28e70320363",
            "28cbcad6885b42a095255645537cb4f9",
            "d54c39b44ffb482fa7a077b89131e977",
            "960f90ed58fc4c46b65ba2c4914741f0",
            "2411a3592f074e72967bfb6ed59c05eb",
            "c59902b917de4d908961c3594d9b98ab",
            "155f3f9cef234500a2b91c8f28c2534d",
            "edf27be54da14cc5bb0b254cabf7bb93",
            "6d6a85789d844aa387e30659c7175316",
            "6a4ae1eae8eb4565a8cd6c8d62561a61",
            "4f5d1580ba1e4a96970265a6eae03422",
            "4dbbae9668fd4c3da632d96253874696",
            "0d6b04ba441c41c0a5e4edee5a0f5a30",
            "f95e001789ca47288e9af818169683bd",
            "37cf7d7649a442c3bb0861fab6f01533",
            "8ca20eceddb142999c2e312a2b6e5e06",
            "d49fdefcd63a420f97976bae000fd464",
            "dc005f698882440f89a575c60d46b76b",
            "ad1314f96ffa46a2b38adde7cb47f3e5",
            "1e848d94937447c093ae348913e19436",
            "ba54fe8613dd489ca12f3cc4ea518363",
            "5869e5ffb3514f478f270e8a368ad54c",
            "045244e7d99f418eb882df96f027d470",
            "5cd5caeac9f744d7a5171fc7dc03ea2a",
            "775d2e50f9a8493080c5b13b68e5f944",
            "846a0ac0fa2a4924ab81fff27bc2a72c",
            "9acf5dcf781a4dc2b38f8674c2a5f29a",
            "b0de4f248dd145b49a5459d583d0194c",
            "37466ee735a84024abaacbb679fcdd4c"
          ]
        },
        "id": "BhTjX0VxlOwe",
        "outputId": "a9c80592-811a-448b-f09e-ff67f6023093"
      },
      "execution_count": 4,
      "outputs": [
        {
          "output_type": "stream",
          "name": "stderr",
          "text": [
            "/usr/local/lib/python3.10/dist-packages/huggingface_hub/utils/_token.py:89: UserWarning: \n",
            "The secret `HF_TOKEN` does not exist in your Colab secrets.\n",
            "To authenticate with the Hugging Face Hub, create a token in your settings tab (https://huggingface.co/settings/tokens), set it as secret in your Google Colab and restart your session.\n",
            "You will be able to reuse this secret in all of your notebooks.\n",
            "Please note that authentication is recommended but still optional to access public models or datasets.\n",
            "  warnings.warn(\n"
          ]
        },
        {
          "output_type": "display_data",
          "data": {
            "text/plain": [
              "tokenizer_config.json:   0%|          | 0.00/222 [00:00<?, ?B/s]"
            ],
            "application/vnd.jupyter.widget-view+json": {
              "version_major": 2,
              "version_minor": 0,
              "model_id": "4378ff076a6445a8bb23df45ab3f9876"
            }
          },
          "metadata": {}
        },
        {
          "output_type": "display_data",
          "data": {
            "text/plain": [
              "tokenizer.json:   0%|          | 0.00/14.5M [00:00<?, ?B/s]"
            ],
            "application/vnd.jupyter.widget-view+json": {
              "version_major": 2,
              "version_minor": 0,
              "model_id": "edf27be54da14cc5bb0b254cabf7bb93"
            }
          },
          "metadata": {}
        },
        {
          "output_type": "display_data",
          "data": {
            "text/plain": [
              "special_tokens_map.json:   0%|          | 0.00/85.0 [00:00<?, ?B/s]"
            ],
            "application/vnd.jupyter.widget-view+json": {
              "version_major": 2,
              "version_minor": 0,
              "model_id": "ad1314f96ffa46a2b38adde7cb47f3e5"
            }
          },
          "metadata": {}
        }
      ]
    },
    {
      "cell_type": "code",
      "source": [
        "model = AutoModelForCausalLM.from_pretrained(\"bigscience/bloom-560m\")"
      ],
      "metadata": {
        "id": "X2OTEdfamkSS",
        "colab": {
          "base_uri": "https://localhost:8080/",
          "height": 351,
          "referenced_widgets": [
            "415f6327fda946e9aef1066afc667b15",
            "e38571703e0a42aab7d08c55bd762a09",
            "ac10fe775f434abc957572623ba168bc",
            "dbcd054a172446d3a159d11ab069f241",
            "f12787779bd84b4c978dddb5f0e90b94",
            "04843828d31d418f91caf31a9348c280",
            "1a86e22794ca4fabaf90f1b570a449e6",
            "77ee10caeac34bd5bb542cfa1239d3e7",
            "9e53f873078042238227c4d52348fc01",
            "0a5ab4c6f8224dc2bb10bdd3aa7d1170",
            "c16159ee50564b86a2dd1bb5b24a2247",
            "7b1fccc32b73450c98bafac00256ec23",
            "4d85d2c9ca974462a58a6fc539dcbb41",
            "053fbce19c974905bb056fb5fc47691a",
            "d4b89152f5174c60a4fac62f73552002",
            "ee5468a5f3bb40e8b77576c359c60659",
            "513c11d262b34003a1e8f004fe129c28",
            "d6d5a37095474eebab70471e52263b3b",
            "bb1495d8ace54ed0afdf5a5d92c0e831",
            "8f8dba518c2749b699315447aa278757",
            "1ebfff138ad3474eab3e740766cc2839",
            "bc3c54c140b54f528a8d571ca34f1a63"
          ]
        },
        "outputId": "00760f9f-d157-4547-be53-0a6594c5265c"
      },
      "execution_count": 5,
      "outputs": [
        {
          "output_type": "display_data",
          "data": {
            "text/plain": [
              "config.json:   0%|          | 0.00/715 [00:00<?, ?B/s]"
            ],
            "application/vnd.jupyter.widget-view+json": {
              "version_major": 2,
              "version_minor": 0,
              "model_id": "415f6327fda946e9aef1066afc667b15"
            }
          },
          "metadata": {}
        },
        {
          "output_type": "display_data",
          "data": {
            "text/plain": [
              "model.safetensors:   0%|          | 0.00/3.44G [00:00<?, ?B/s]"
            ],
            "application/vnd.jupyter.widget-view+json": {
              "version_major": 2,
              "version_minor": 0,
              "model_id": "7b1fccc32b73450c98bafac00256ec23"
            }
          },
          "metadata": {}
        },
        {
          "output_type": "error",
          "ename": "RuntimeError",
          "evalue": "Found no NVIDIA driver on your system. Please check that you have an NVIDIA GPU and installed a driver from http://www.nvidia.com/Download/index.aspx",
          "traceback": [
            "\u001b[0;31m---------------------------------------------------------------------------\u001b[0m",
            "\u001b[0;31mRuntimeError\u001b[0m                              Traceback (most recent call last)",
            "\u001b[0;32m<ipython-input-5-d5e203e0bada>\u001b[0m in \u001b[0;36m<cell line: 1>\u001b[0;34m()\u001b[0m\n\u001b[0;32m----> 1\u001b[0;31m \u001b[0mmodel\u001b[0m \u001b[0;34m=\u001b[0m \u001b[0mAutoModelForCausalLM\u001b[0m\u001b[0;34m.\u001b[0m\u001b[0mfrom_pretrained\u001b[0m\u001b[0;34m(\u001b[0m\u001b[0;34m\"bigscience/bloom-1b7\"\u001b[0m\u001b[0;34m)\u001b[0m\u001b[0;34m\u001b[0m\u001b[0;34m\u001b[0m\u001b[0m\n\u001b[0m",
            "\u001b[0;32m/usr/local/lib/python3.10/dist-packages/transformers/models/auto/auto_factory.py\u001b[0m in \u001b[0;36mfrom_pretrained\u001b[0;34m(cls, pretrained_model_name_or_path, *model_args, **kwargs)\u001b[0m\n\u001b[1;32m    561\u001b[0m         \u001b[0;32melif\u001b[0m \u001b[0mtype\u001b[0m\u001b[0;34m(\u001b[0m\u001b[0mconfig\u001b[0m\u001b[0;34m)\u001b[0m \u001b[0;32min\u001b[0m \u001b[0mcls\u001b[0m\u001b[0;34m.\u001b[0m\u001b[0m_model_mapping\u001b[0m\u001b[0;34m.\u001b[0m\u001b[0mkeys\u001b[0m\u001b[0;34m(\u001b[0m\u001b[0;34m)\u001b[0m\u001b[0;34m:\u001b[0m\u001b[0;34m\u001b[0m\u001b[0;34m\u001b[0m\u001b[0m\n\u001b[1;32m    562\u001b[0m             \u001b[0mmodel_class\u001b[0m \u001b[0;34m=\u001b[0m \u001b[0m_get_model_class\u001b[0m\u001b[0;34m(\u001b[0m\u001b[0mconfig\u001b[0m\u001b[0;34m,\u001b[0m \u001b[0mcls\u001b[0m\u001b[0;34m.\u001b[0m\u001b[0m_model_mapping\u001b[0m\u001b[0;34m)\u001b[0m\u001b[0;34m\u001b[0m\u001b[0;34m\u001b[0m\u001b[0m\n\u001b[0;32m--> 563\u001b[0;31m             return model_class.from_pretrained(\n\u001b[0m\u001b[1;32m    564\u001b[0m                 \u001b[0mpretrained_model_name_or_path\u001b[0m\u001b[0;34m,\u001b[0m \u001b[0;34m*\u001b[0m\u001b[0mmodel_args\u001b[0m\u001b[0;34m,\u001b[0m \u001b[0mconfig\u001b[0m\u001b[0;34m=\u001b[0m\u001b[0mconfig\u001b[0m\u001b[0;34m,\u001b[0m \u001b[0;34m**\u001b[0m\u001b[0mhub_kwargs\u001b[0m\u001b[0;34m,\u001b[0m \u001b[0;34m**\u001b[0m\u001b[0mkwargs\u001b[0m\u001b[0;34m\u001b[0m\u001b[0;34m\u001b[0m\u001b[0m\n\u001b[1;32m    565\u001b[0m             )\n",
            "\u001b[0;32m/usr/local/lib/python3.10/dist-packages/transformers/modeling_utils.py\u001b[0m in \u001b[0;36mfrom_pretrained\u001b[0;34m(cls, pretrained_model_name_or_path, config, cache_dir, ignore_mismatched_sizes, force_download, local_files_only, token, revision, use_safetensors, *model_args, **kwargs)\u001b[0m\n\u001b[1;32m   3624\u001b[0m         \u001b[0;32mwith\u001b[0m \u001b[0mContextManagers\u001b[0m\u001b[0;34m(\u001b[0m\u001b[0minit_contexts\u001b[0m\u001b[0;34m)\u001b[0m\u001b[0;34m:\u001b[0m\u001b[0;34m\u001b[0m\u001b[0;34m\u001b[0m\u001b[0m\n\u001b[1;32m   3625\u001b[0m             \u001b[0;31m# Let's make sure we don't run the init function of buffer modules\u001b[0m\u001b[0;34m\u001b[0m\u001b[0;34m\u001b[0m\u001b[0m\n\u001b[0;32m-> 3626\u001b[0;31m             \u001b[0mmodel\u001b[0m \u001b[0;34m=\u001b[0m \u001b[0mcls\u001b[0m\u001b[0;34m(\u001b[0m\u001b[0mconfig\u001b[0m\u001b[0;34m,\u001b[0m \u001b[0;34m*\u001b[0m\u001b[0mmodel_args\u001b[0m\u001b[0;34m,\u001b[0m \u001b[0;34m**\u001b[0m\u001b[0mmodel_kwargs\u001b[0m\u001b[0;34m)\u001b[0m\u001b[0;34m\u001b[0m\u001b[0;34m\u001b[0m\u001b[0m\n\u001b[0m\u001b[1;32m   3627\u001b[0m \u001b[0;34m\u001b[0m\u001b[0m\n\u001b[1;32m   3628\u001b[0m         \u001b[0;31m# make sure we use the model's config since the __init__ call might have copied it\u001b[0m\u001b[0;34m\u001b[0m\u001b[0;34m\u001b[0m\u001b[0m\n",
            "\u001b[0;32m/usr/local/lib/python3.10/dist-packages/transformers/models/bloom/modeling_bloom.py\u001b[0m in \u001b[0;36m__init__\u001b[0;34m(self, config)\u001b[0m\n\u001b[1;32m    756\u001b[0m     \u001b[0;32mdef\u001b[0m \u001b[0m__init__\u001b[0m\u001b[0;34m(\u001b[0m\u001b[0mself\u001b[0m\u001b[0;34m,\u001b[0m \u001b[0mconfig\u001b[0m\u001b[0;34m:\u001b[0m \u001b[0mBloomConfig\u001b[0m\u001b[0;34m)\u001b[0m\u001b[0;34m:\u001b[0m\u001b[0;34m\u001b[0m\u001b[0;34m\u001b[0m\u001b[0m\n\u001b[1;32m    757\u001b[0m         \u001b[0msuper\u001b[0m\u001b[0;34m(\u001b[0m\u001b[0;34m)\u001b[0m\u001b[0;34m.\u001b[0m\u001b[0m__init__\u001b[0m\u001b[0;34m(\u001b[0m\u001b[0mconfig\u001b[0m\u001b[0;34m)\u001b[0m\u001b[0;34m\u001b[0m\u001b[0;34m\u001b[0m\u001b[0m\n\u001b[0;32m--> 758\u001b[0;31m         \u001b[0mself\u001b[0m\u001b[0;34m.\u001b[0m\u001b[0mtransformer\u001b[0m \u001b[0;34m=\u001b[0m \u001b[0mBloomModel\u001b[0m\u001b[0;34m(\u001b[0m\u001b[0mconfig\u001b[0m\u001b[0;34m)\u001b[0m\u001b[0;34m\u001b[0m\u001b[0;34m\u001b[0m\u001b[0m\n\u001b[0m\u001b[1;32m    759\u001b[0m         \u001b[0mself\u001b[0m\u001b[0;34m.\u001b[0m\u001b[0mlm_head\u001b[0m \u001b[0;34m=\u001b[0m \u001b[0mnn\u001b[0m\u001b[0;34m.\u001b[0m\u001b[0mLinear\u001b[0m\u001b[0;34m(\u001b[0m\u001b[0mconfig\u001b[0m\u001b[0;34m.\u001b[0m\u001b[0mhidden_size\u001b[0m\u001b[0;34m,\u001b[0m \u001b[0mconfig\u001b[0m\u001b[0;34m.\u001b[0m\u001b[0mvocab_size\u001b[0m\u001b[0;34m,\u001b[0m \u001b[0mbias\u001b[0m\u001b[0;34m=\u001b[0m\u001b[0;32mFalse\u001b[0m\u001b[0;34m)\u001b[0m\u001b[0;34m\u001b[0m\u001b[0;34m\u001b[0m\u001b[0m\n\u001b[1;32m    760\u001b[0m \u001b[0;34m\u001b[0m\u001b[0m\n",
            "\u001b[0;32m/usr/local/lib/python3.10/dist-packages/transformers/models/bloom/modeling_bloom.py\u001b[0m in \u001b[0;36m__init__\u001b[0;34m(self, config)\u001b[0m\n\u001b[1;32m    580\u001b[0m \u001b[0;34m\u001b[0m\u001b[0m\n\u001b[1;32m    581\u001b[0m         \u001b[0;31m# Embedding + LN Embedding\u001b[0m\u001b[0;34m\u001b[0m\u001b[0;34m\u001b[0m\u001b[0m\n\u001b[0;32m--> 582\u001b[0;31m         \u001b[0mself\u001b[0m\u001b[0;34m.\u001b[0m\u001b[0mword_embeddings\u001b[0m \u001b[0;34m=\u001b[0m \u001b[0mnn\u001b[0m\u001b[0;34m.\u001b[0m\u001b[0mEmbedding\u001b[0m\u001b[0;34m(\u001b[0m\u001b[0mconfig\u001b[0m\u001b[0;34m.\u001b[0m\u001b[0mvocab_size\u001b[0m\u001b[0;34m,\u001b[0m \u001b[0mself\u001b[0m\u001b[0;34m.\u001b[0m\u001b[0membed_dim\u001b[0m\u001b[0;34m)\u001b[0m\u001b[0;34m\u001b[0m\u001b[0;34m\u001b[0m\u001b[0m\n\u001b[0m\u001b[1;32m    583\u001b[0m         \u001b[0mself\u001b[0m\u001b[0;34m.\u001b[0m\u001b[0mword_embeddings_layernorm\u001b[0m \u001b[0;34m=\u001b[0m \u001b[0mLayerNorm\u001b[0m\u001b[0;34m(\u001b[0m\u001b[0mself\u001b[0m\u001b[0;34m.\u001b[0m\u001b[0membed_dim\u001b[0m\u001b[0;34m,\u001b[0m \u001b[0meps\u001b[0m\u001b[0;34m=\u001b[0m\u001b[0mconfig\u001b[0m\u001b[0;34m.\u001b[0m\u001b[0mlayer_norm_epsilon\u001b[0m\u001b[0;34m)\u001b[0m\u001b[0;34m\u001b[0m\u001b[0;34m\u001b[0m\u001b[0m\n\u001b[1;32m    584\u001b[0m \u001b[0;34m\u001b[0m\u001b[0m\n",
            "\u001b[0;32m/usr/local/lib/python3.10/dist-packages/torch/nn/modules/sparse.py\u001b[0m in \u001b[0;36m__init__\u001b[0;34m(self, num_embeddings, embedding_dim, padding_idx, max_norm, norm_type, scale_grad_by_freq, sparse, _weight, _freeze, device, dtype)\u001b[0m\n\u001b[1;32m    141\u001b[0m         \u001b[0mself\u001b[0m\u001b[0;34m.\u001b[0m\u001b[0mscale_grad_by_freq\u001b[0m \u001b[0;34m=\u001b[0m \u001b[0mscale_grad_by_freq\u001b[0m\u001b[0;34m\u001b[0m\u001b[0;34m\u001b[0m\u001b[0m\n\u001b[1;32m    142\u001b[0m         \u001b[0;32mif\u001b[0m \u001b[0m_weight\u001b[0m \u001b[0;32mis\u001b[0m \u001b[0;32mNone\u001b[0m\u001b[0;34m:\u001b[0m\u001b[0;34m\u001b[0m\u001b[0;34m\u001b[0m\u001b[0m\n\u001b[0;32m--> 143\u001b[0;31m             self.weight = Parameter(torch.empty((num_embeddings, embedding_dim), **factory_kwargs),\n\u001b[0m\u001b[1;32m    144\u001b[0m                                     requires_grad=not _freeze)\n\u001b[1;32m    145\u001b[0m             \u001b[0mself\u001b[0m\u001b[0;34m.\u001b[0m\u001b[0mreset_parameters\u001b[0m\u001b[0;34m(\u001b[0m\u001b[0;34m)\u001b[0m\u001b[0;34m\u001b[0m\u001b[0;34m\u001b[0m\u001b[0m\n",
            "\u001b[0;32m/usr/local/lib/python3.10/dist-packages/torch/cuda/__init__.py\u001b[0m in \u001b[0;36m_lazy_init\u001b[0;34m()\u001b[0m\n\u001b[1;32m    291\u001b[0m         \u001b[0;32mif\u001b[0m \u001b[0;34m\"CUDA_MODULE_LOADING\"\u001b[0m \u001b[0;32mnot\u001b[0m \u001b[0;32min\u001b[0m \u001b[0mos\u001b[0m\u001b[0;34m.\u001b[0m\u001b[0menviron\u001b[0m\u001b[0;34m:\u001b[0m\u001b[0;34m\u001b[0m\u001b[0;34m\u001b[0m\u001b[0m\n\u001b[1;32m    292\u001b[0m             \u001b[0mos\u001b[0m\u001b[0;34m.\u001b[0m\u001b[0menviron\u001b[0m\u001b[0;34m[\u001b[0m\u001b[0;34m\"CUDA_MODULE_LOADING\"\u001b[0m\u001b[0;34m]\u001b[0m \u001b[0;34m=\u001b[0m \u001b[0;34m\"LAZY\"\u001b[0m\u001b[0;34m\u001b[0m\u001b[0;34m\u001b[0m\u001b[0m\n\u001b[0;32m--> 293\u001b[0;31m         \u001b[0mtorch\u001b[0m\u001b[0;34m.\u001b[0m\u001b[0m_C\u001b[0m\u001b[0;34m.\u001b[0m\u001b[0m_cuda_init\u001b[0m\u001b[0;34m(\u001b[0m\u001b[0;34m)\u001b[0m\u001b[0;34m\u001b[0m\u001b[0;34m\u001b[0m\u001b[0m\n\u001b[0m\u001b[1;32m    294\u001b[0m         \u001b[0;31m# Some of the queued calls may reentrantly call _lazy_init();\u001b[0m\u001b[0;34m\u001b[0m\u001b[0;34m\u001b[0m\u001b[0m\n\u001b[1;32m    295\u001b[0m         \u001b[0;31m# we need to just return without initializing in that case.\u001b[0m\u001b[0;34m\u001b[0m\u001b[0;34m\u001b[0m\u001b[0m\n",
            "\u001b[0;31mRuntimeError\u001b[0m: Found no NVIDIA driver on your system. Please check that you have an NVIDIA GPU and installed a driver from http://www.nvidia.com/Download/index.aspx"
          ]
        }
      ]
    },
    {
      "cell_type": "code",
      "source": [
        "model.__class__"
      ],
      "metadata": {
        "colab": {
          "base_uri": "https://localhost:8080/",
          "height": 186
        },
        "id": "rwxps-uIgIvS",
        "outputId": "4cad0a32-95e3-487c-aca7-2baed081d3d7"
      },
      "execution_count": null,
      "outputs": [
        {
          "output_type": "execute_result",
          "data": {
            "text/plain": [
              "transformers.models.bloom.modeling_bloom.BloomForCausalLM"
            ],
            "text/html": [
              "<div style=\"max-width:800px; border: 1px solid var(--colab-border-color);\"><style>\n",
              "      pre.function-repr-contents {\n",
              "        overflow-x: auto;\n",
              "        padding: 8px 12px;\n",
              "        max-height: 500px;\n",
              "      }\n",
              "\n",
              "      pre.function-repr-contents.function-repr-contents-collapsed {\n",
              "        cursor: pointer;\n",
              "        max-height: 100px;\n",
              "      }\n",
              "    </style>\n",
              "    <pre style=\"white-space: initial; background:\n",
              "         var(--colab-secondary-surface-color); padding: 8px 12px;\n",
              "         border-bottom: 1px solid var(--colab-border-color);\"><b>transformers.models.bloom.modeling_bloom.BloomForCausalLM</b><br/>def _wrapped_call_impl(*args, **kwargs)</pre><pre class=\"function-repr-contents function-repr-contents-collapsed\" style=\"\"><a class=\"filepath\" style=\"display:none\" href=\"#\">/usr/local/lib/python3.10/dist-packages/transformers/models/bloom/modeling_bloom.py</a>The Bloom Model transformer with a language modeling head on top (linear layer with weights tied to the input\n",
              "embeddings).\n",
              "\n",
              "\n",
              "This model inherits from [`PreTrainedModel`]. Check the superclass documentation for the generic methods the\n",
              "library implements for all its model (such as downloading or saving, resizing the input embeddings etc.)\n",
              "\n",
              "This model is also a PyTorch [torch.nn.Module](https://pytorch.org/docs/stable/nn.html#torch.nn.Module) subclass.\n",
              "Use it as a regular PyTorch Module and refer to the PyTorch documentation for all matter related to general usage\n",
              "and behavior.\n",
              "\n",
              "Parameters:\n",
              "    config ([`BloomConfig`]): Model configuration class with all the parameters of the model.\n",
              "        Initializing with a config file does not load the weights associated with the model, only the\n",
              "        configuration. Check out the [`~PreTrainedModel.from_pretrained`] method to load the model weights.</pre>\n",
              "      <script>\n",
              "      if (google.colab.kernel.accessAllowed && google.colab.files && google.colab.files.view) {\n",
              "        for (const element of document.querySelectorAll('.filepath')) {\n",
              "          element.style.display = 'block'\n",
              "          element.onclick = (event) => {\n",
              "            event.preventDefault();\n",
              "            event.stopPropagation();\n",
              "            google.colab.files.view(element.textContent, 746);\n",
              "          };\n",
              "        }\n",
              "      }\n",
              "      for (const element of document.querySelectorAll('.function-repr-contents')) {\n",
              "        element.onclick = (event) => {\n",
              "          event.preventDefault();\n",
              "          event.stopPropagation();\n",
              "          element.classList.toggle('function-repr-contents-collapsed');\n",
              "        };\n",
              "      }\n",
              "      </script>\n",
              "      </div>"
            ]
          },
          "metadata": {},
          "execution_count": 6
        }
      ]
    },
    {
      "cell_type": "code",
      "source": [
        "model.__class__.__name__"
      ],
      "metadata": {
        "colab": {
          "base_uri": "https://localhost:8080/",
          "height": 36
        },
        "id": "Nx56xxgie5s9",
        "outputId": "20e56b23-9afd-49d9-e072-3e9bc95e861f"
      },
      "execution_count": null,
      "outputs": [
        {
          "output_type": "execute_result",
          "data": {
            "text/plain": [
              "'BloomForCausalLM'"
            ],
            "application/vnd.google.colaboratory.intrinsic+json": {
              "type": "string"
            }
          },
          "metadata": {},
          "execution_count": 7
        }
      ]
    },
    {
      "cell_type": "code",
      "source": [
        "set_seed(11111)"
      ],
      "metadata": {
        "id": "nY3Q_2VRgLo5"
      },
      "execution_count": null,
      "outputs": []
    },
    {
      "cell_type": "code",
      "source": [
        "prompt = \"What is colonization?\""
      ],
      "metadata": {
        "id": "IX2UwjtpiCWU"
      },
      "execution_count": null,
      "outputs": []
    },
    {
      "cell_type": "code",
      "source": [
        "input_tokens = tokenizer(prompt, return_tensors=\"pt\").to(0)"
      ],
      "metadata": {
        "id": "5pGVMGTfiYkG"
      },
      "execution_count": null,
      "outputs": []
    },
    {
      "cell_type": "code",
      "source": [
        "input_tokens"
      ],
      "metadata": {
        "colab": {
          "base_uri": "https://localhost:8080/"
        },
        "id": "tQ78CZ7ji4gm",
        "outputId": "7d59352d-5c85-4c80-a1b6-233a25a5f2a0"
      },
      "execution_count": null,
      "outputs": [
        {
          "output_type": "execute_result",
          "data": {
            "text/plain": [
              "{'input_ids': tensor([[10560,   632, 19350,  6926,    34]]), 'attention_mask': tensor([[1, 1, 1, 1, 1]])}"
            ]
          },
          "metadata": {},
          "execution_count": 38
        }
      ]
    },
    {
      "cell_type": "code",
      "source": [
        "result = model.generate(**input_tokens, max_length=200, top_k=0, temperature=0.5)"
      ],
      "metadata": {
        "colab": {
          "base_uri": "https://localhost:8080/"
        },
        "id": "jU9Stvc5i4iQ",
        "outputId": "c2ae4732-e739-4bc4-b2e3-851197c66c8c"
      },
      "execution_count": null,
      "outputs": [
        {
          "output_type": "stream",
          "name": "stderr",
          "text": [
            "/usr/local/lib/python3.10/dist-packages/transformers/generation/configuration_utils.py:515: UserWarning: `do_sample` is set to `False`. However, `temperature` is set to `0.5` -- this flag is only used in sample-based generation modes. You should set `do_sample=True` or unset `temperature`.\n",
            "  warnings.warn(\n",
            "/usr/local/lib/python3.10/dist-packages/transformers/generation/configuration_utils.py:537: UserWarning: `do_sample` is set to `False`. However, `top_k` is set to `0` -- this flag is only used in sample-based generation modes. You should set `do_sample=True` or unset `top_k`.\n",
            "  warnings.warn(\n"
          ]
        }
      ]
    },
    {
      "cell_type": "code",
      "source": [
        "result[0]\n"
      ],
      "metadata": {
        "colab": {
          "base_uri": "https://localhost:8080/"
        },
        "id": "e7I0rWCcouJV",
        "outputId": "086744ac-c854-4c23-a6f5-47aba6a1f011"
      },
      "execution_count": null,
      "outputs": [
        {
          "output_type": "execute_result",
          "data": {
            "text/plain": [
              "tensor([ 10560,    632,  19350,   6926,     34, 241290,   6926,    632,    368,\n",
              "          4451,    461,    267,   2298,  60240,    267,   7515,    461,    267,\n",
              "          2084,  21200,     17,   3162,    632,    368,   4451,    461,    267,\n",
              "          2298,  60240,    267,   7515,    461,    267,   2084,  21200,     17,\n",
              "          3162,    632,    368,   4451,    461,    267,   2298,  60240,    267,\n",
              "          7515,    461,    267,   2084,  21200,     17,   3162,    632,    368,\n",
              "          4451,    461,    267,   2298,  60240,    267,   7515,    461,    267,\n",
              "          2084,  21200,     17,   3162,    632,    368,   4451,    461,    267,\n",
              "          2298,  60240,    267,   7515,    461,    267,   2084,  21200,     17,\n",
              "          3162,    632,    368,   4451,    461,    267,   2298,  60240,    267,\n",
              "          7515,    461,    267,   2084,  21200,     17,   3162,    632,    368,\n",
              "          4451,    461,    267,   2298,  60240,    267,   7515,    461,    267,\n",
              "          2084,  21200,     17,   3162,    632,    368,   4451,    461,    267,\n",
              "          2298,  60240,    267,   7515,    461,    267,   2084,  21200,     17,\n",
              "          3162,    632,    368,   4451,    461,    267,   2298,  60240,    267,\n",
              "          7515,    461,    267,   2084,  21200,     17,   3162,    632,    368,\n",
              "          4451,    461,    267,   2298,  60240,    267,   7515,    461,    267,\n",
              "          2084,  21200,     17,   3162,    632,    368,   4451,    461,    267,\n",
              "          2298,  60240,    267,   7515,    461,    267,   2084,  21200,     17,\n",
              "          3162,    632,    368,   4451,    461,    267,   2298,  60240,    267,\n",
              "          7515,    461,    267,   2084,  21200,     17,   3162,    632,    368,\n",
              "          4451,    461,    267,   2298,  60240,    267,   7515,    461,    267,\n",
              "          2084,  21200])"
            ]
          },
          "metadata": {},
          "execution_count": 40
        }
      ]
    },
    {
      "cell_type": "code",
      "source": [
        "print(tokenizer.decode(result[0],truncate_before_pattern=[r\"\\n\\n^#\", \"^'''\", \"\\n\\n\\n\"]))"
      ],
      "metadata": {
        "colab": {
          "base_uri": "https://localhost:8080/"
        },
        "id": "OjdpfNPyo1Cj",
        "outputId": "db794d33-5809-4510-972a-0ecb92da52d4"
      },
      "execution_count": null,
      "outputs": [
        {
          "output_type": "stream",
          "name": "stdout",
          "text": [
            "What is colonization? Colonization is the process of a person becoming a member of a new community. It is the process of a person becoming a member of a new community. It is the process of a person becoming a member of a new community. It is the process of a person becoming a member of a new community. It is the process of a person becoming a member of a new community. It is the process of a person becoming a member of a new community. It is the process of a person becoming a member of a new community. It is the process of a person becoming a member of a new community. It is the process of a person becoming a member of a new community. It is the process of a person becoming a member of a new community. It is the process of a person becoming a member of a new community. It is the process of a person becoming a member of a new community. It is the process of a person becoming a member of a new community\n"
          ]
        }
      ]
    },
    {
      "cell_type": "markdown",
      "source": [
        "These are some of the Languages it is capable of translation\n",
        "\n",
        "\n",
        "1.   Arabic\n",
        "2.   Assamese\n",
        "3.   Bengali\n",
        "4.   English\n",
        "5.   Spanish\n",
        " and so on.\n",
        "\n",
        "\n",
        "\n",
        "\n"
      ],
      "metadata": {
        "id": "3NyX9Vqi3R8o"
      }
    },
    {
      "cell_type": "code",
      "source": [
        "while True:\n",
        "    prompt = input(\"Enter sentence and language to be translated: \")\n",
        "    if user_input.lower() in [\"exit\", \"quit\"]:\n",
        "        break\n",
        "    input_tokens = tokenizer(prompt, return_tensors=\"pt\").to(0)\n",
        "    result = model.generate(**input_tokens, max_length=200, top_k=0, temperature=0.5)\n",
        "    print(tokenizer.decode(result[0],truncate_before_pattern=[r\"\\n\\n^#\", \"^'''\", \"\\n\\n\\n\"]))"
      ],
      "metadata": {
        "id": "SmRKvaHWXQiw"
      },
      "execution_count": null,
      "outputs": []
    },
    {
      "cell_type": "markdown",
      "source": [],
      "metadata": {
        "id": "XAOxPTC6qVxq"
      }
    }
  ]
}